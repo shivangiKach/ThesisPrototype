{
 "cells": [
  {
   "cell_type": "code",
   "execution_count": 3,
   "id": "b9bb3d0d",
   "metadata": {},
   "outputs": [],
   "source": [
    "import pandas as pd\n",
    "import numpy as np\n",
    "\n",
    "# Step 1: Load the dataset\n",
    "df = pd.read_csv('Leefbaarometer-scores wijken 2002-2022.csv')\n",
    "\n",
    "# Step 2: Define the specific bu_code values\n",
    "specific_wk_codes = ['WK036201', 'WK036202', 'WK036203', 'WK036204', 'WK036205',\n",
    "                     'WK036206', 'WK036207', 'WK036208', 'WK036209', 'WK036210', \n",
    "                     'WK036211', 'WK036212', 'WK036213', 'WK036214']\n",
    "\n",
    "# Step 3: Filter the DataFrame \n",
    "filtered_df = df[(df['wk_code'].isin(specific_wk_codes)) & (df['jaar'] == 2022)]\n",
    "\n",
    "# Step 4: Extract lbm values\n",
    "lbm_values = filtered_df[['wk_code', 'wk_naam', 'lbm']]\n",
    "\n",
    "lbm_values.to_csv('Amstelveen1.csv', index=False)"
   ]
  },
  {
   "cell_type": "code",
   "execution_count": null,
   "id": "8758582a",
   "metadata": {},
   "outputs": [],
   "source": []
  }
 ],
 "metadata": {
  "kernelspec": {
   "display_name": "Python 3 (ipykernel)",
   "language": "python",
   "name": "python3"
  },
  "language_info": {
   "codemirror_mode": {
    "name": "ipython",
    "version": 3
   },
   "file_extension": ".py",
   "mimetype": "text/x-python",
   "name": "python",
   "nbconvert_exporter": "python",
   "pygments_lexer": "ipython3",
   "version": "3.11.4"
  }
 },
 "nbformat": 4,
 "nbformat_minor": 5
}
