{
 "cells": [
  {
   "cell_type": "code",
   "execution_count": 1,
   "id": "df86c0e4",
   "metadata": {},
   "outputs": [],
   "source": [
    "import pandas as pd\n",
    "import numpy as np\n",
    "import matplotlib.pyplot as plt\n",
    "from scipy.stats import linregress"
   ]
  },
  {
   "cell_type": "code",
   "execution_count": 3,
   "id": "6def4c89",
   "metadata": {},
   "outputs": [
    {
     "name": "stdout",
     "output_type": "stream",
     "text": [
      "-0.060438479815950547\n",
      "-0.057899053233283315\n",
      "-0.05496750038720242\n",
      "-0.05150020929695123\n",
      "-0.047256587967010814\n",
      "-0.04178560853826269\n",
      "-0.034074696118071075\n",
      "-0.020892804269131347\n"
     ]
    }
   ],
   "source": [
    "distanceScale1 = np.log(24) * -0.01901745\n",
    "print(distanceScale1)\n",
    "distanceScale2 = np.log(21) * -0.01901745\n",
    "print(distanceScale2)\n",
    "distanceScale3 = np.log(18) * -0.01901745\n",
    "print(distanceScale3)\n",
    "distanceScale4 = np.log(15) * -0.01901745\n",
    "print(distanceScale4)\n",
    "distanceScale5 = np.log(12) * -0.01901745\n",
    "print(distanceScale5)\n",
    "distanceScale6 = np.log(9) * -0.01901745\n",
    "print(distanceScale6)\n",
    "distanceScale7 = np.log(6) * -0.01901745\n",
    "print(distanceScale7)\n",
    "distanceScale8 = np.log(3) * -0.01901745\n",
    "print(distanceScale8)"
   ]
  },
  {
   "cell_type": "code",
   "execution_count": 5,
   "id": "79f7c1e9",
   "metadata": {},
   "outputs": [
    {
     "name": "stdout",
     "output_type": "stream",
     "text": [
      "0.0\n",
      "0.12600989\n",
      "0.25201978\n",
      "0.37802967000000004\n",
      "0.50403956\n",
      "0.63004945\n",
      "0.7560593400000001\n",
      "0.8820692300000001\n"
     ]
    }
   ],
   "source": [
    "rentalScale1 = 0 * 0.12600989\n",
    "print(rentalScale1)\n",
    "rentalScale2 = 1 * 0.12600989\n",
    "print(rentalScale2)\n",
    "rentalScale3 = 2 * 0.12600989\n",
    "print(rentalScale3)\n",
    "rentalScale4 = 3 * 0.12600989\n",
    "print(rentalScale4)\n",
    "rentalScale5 = 4 * 0.12600989\n",
    "print(rentalScale5)\n",
    "rentalScale6 = 5 * 0.12600989\n",
    "print(rentalScale6)\n",
    "rentalScale7 = 6 * 0.12600989\n",
    "print(rentalScale7)\n",
    "rentalScale8 = 7 * 0.12600989\n",
    "print(rentalScale8)"
   ]
  },
  {
   "cell_type": "code",
   "execution_count": null,
   "id": "cb1c4f97",
   "metadata": {},
   "outputs": [],
   "source": []
  }
 ],
 "metadata": {
  "kernelspec": {
   "display_name": "Python 3 (ipykernel)",
   "language": "python",
   "name": "python3"
  },
  "language_info": {
   "codemirror_mode": {
    "name": "ipython",
    "version": 3
   },
   "file_extension": ".py",
   "mimetype": "text/x-python",
   "name": "python",
   "nbconvert_exporter": "python",
   "pygments_lexer": "ipython3",
   "version": "3.11.4"
  }
 },
 "nbformat": 4,
 "nbformat_minor": 5
}
